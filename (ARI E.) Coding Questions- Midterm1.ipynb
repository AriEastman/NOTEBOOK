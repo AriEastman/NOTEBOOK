{
 "cells": [
  {
   "cell_type": "markdown",
   "id": "7b176adf",
   "metadata": {},
   "source": [
    "### Create a list of 10 numbers and find out the minimum, maximum, and total (sum) of the list. \n"
   ]
  },
  {
   "cell_type": "code",
   "execution_count": 1,
   "id": "104a809b",
   "metadata": {},
   "outputs": [],
   "source": [
    "numbers=[1,2,3,4,5,6,7,8,9,10]"
   ]
  },
  {
   "cell_type": "code",
   "execution_count": 2,
   "id": "3f0c6fc5",
   "metadata": {},
   "outputs": [
    {
     "data": {
      "text/plain": [
       "1"
      ]
     },
     "execution_count": 2,
     "metadata": {},
     "output_type": "execute_result"
    }
   ],
   "source": [
    "min (numbers)"
   ]
  },
  {
   "cell_type": "code",
   "execution_count": 3,
   "id": "16306b0d",
   "metadata": {},
   "outputs": [
    {
     "data": {
      "text/plain": [
       "10"
      ]
     },
     "execution_count": 3,
     "metadata": {},
     "output_type": "execute_result"
    }
   ],
   "source": [
    "max (numbers)"
   ]
  },
  {
   "cell_type": "code",
   "execution_count": 4,
   "id": "c878dc91",
   "metadata": {},
   "outputs": [
    {
     "data": {
      "text/plain": [
       "55"
      ]
     },
     "execution_count": 4,
     "metadata": {},
     "output_type": "execute_result"
    }
   ],
   "source": [
    "sum (numbers)"
   ]
  },
  {
   "cell_type": "markdown",
   "id": "639ca70a",
   "metadata": {},
   "source": [
    "### What is a nested If statement? Get input from a user and check whether the number is odd or not. If the number is odd it is also less than or equal to 20. If not, then print relevant information."
   ]
  },
  {
   "cell_type": "code",
   "execution_count": 5,
   "id": "3c6c13fe",
   "metadata": {},
   "outputs": [
    {
     "name": "stdout",
     "output_type": "stream",
     "text": [
      "Enter A Number: 11\n",
      "The Number 11 Is An Odd Number.\n",
      "The Number 11 is Less than or equal to 20\n"
     ]
    }
   ],
   "source": [
    "Rev_1=int(input(\"Enter A Number: \"))\n",
    "if Rev_1%2!=0: #Point Of Error Orginally (Did Not Use Modulus)\n",
    "    print(f\"The Number {Rev_1} Is An Odd Number.\")\n",
    "    if Rev_1<=20:\n",
    "        print(f\"The Number {Rev_1} is Less than or equal to 20\")\n",
    "else:\n",
    "    print(f\"This Number {Rev_1} Is A Even Number\")"
   ]
  },
  {
   "cell_type": "markdown",
   "id": "e7d78622",
   "metadata": {},
   "source": [
    "### Get a user input of an integer number and check if the given number is a multiple of 11 or not. "
   ]
  },
  {
   "cell_type": "code",
   "execution_count": 6,
   "id": "0912d21e",
   "metadata": {},
   "outputs": [
    {
     "name": "stdout",
     "output_type": "stream",
     "text": [
      "Enter An Interger: 44\n",
      "44 Is A Multiple Of 11\n"
     ]
    }
   ],
   "source": [
    "Rev_2=int(input(\"Enter An Interger: \"))\n",
    "if Rev_2%11==0:\n",
    "    print(f\"{Rev_2} Is A Multiple Of 11\")\n",
    "else:\n",
    "    print(f\"{Rev_2} Is NOT A Multiple Of 11\")\n",
    "#Again Using modulus function, \"Interger\", Show Logical example"
   ]
  },
  {
   "cell_type": "markdown",
   "id": "65ba24de",
   "metadata": {},
   "source": [
    "### In the United States, as of 1995, a minor is generally legally defined as a person under the age of 18. Write a code to check whether a student is a minor or not where the input will be given by users."
   ]
  },
  {
   "cell_type": "code",
   "execution_count": 7,
   "id": "508bc721",
   "metadata": {},
   "outputs": [
    {
     "name": "stdout",
     "output_type": "stream",
     "text": [
      "Enter Your Age: 23\n",
      "Your Age is 23. This Shows You Are An Adult In The United States\n"
     ]
    }
   ],
   "source": [
    "Age=int(input(\"Enter Your Age: \"))\n",
    "if Age<18:\n",
    "    print(f\"Your Age is {Age}. This Shows You Are A Minor In The United States\")\n",
    "else:\n",
    "    print(f\"Your Age is {Age}. This Shows You Are An Adult In The United States\")"
   ]
  },
  {
   "cell_type": "markdown",
   "id": "0590548b",
   "metadata": {},
   "source": [
    "### Write down a program using a for loop that prints all numbers from 1 to 15 and adds them to a list called numbers_list.  numbers_list=[1,2,3,4,...15]\n",
    "\n"
   ]
  },
  {
   "cell_type": "code",
   "execution_count": 8,
   "id": "7884ccf3",
   "metadata": {},
   "outputs": [
    {
     "name": "stdout",
     "output_type": "stream",
     "text": [
      "1\n",
      "2\n",
      "3\n",
      "4\n",
      "5\n",
      "6\n",
      "7\n",
      "8\n",
      "9\n",
      "10\n",
      "11\n",
      "12\n",
      "13\n",
      "14\n",
      "15\n",
      "The Number List Is:  [1, 2, 3, 4, 5, 6, 7, 8, 9, 10, 11, 12, 13, 14, 15]\n"
     ]
    }
   ],
   "source": [
    "#CORRECTION: ADD TO LIST dont just loop \n",
    "numbers_list=[] #MORE COHESIVE LIST USING RANGE\n",
    "for i in range(1,16):\n",
    "    print(i) #PRINTS 1 to 15\n",
    "    numbers_list.append(i) #(ADDS THEM TO NUMBERS_LIST)\n",
    "print(\"The Number List Is: \", numbers_list) #FINAL LIST"
   ]
  }
 ],
 "metadata": {
  "kernelspec": {
   "display_name": "Python 3 (ipykernel)",
   "language": "python",
   "name": "python3"
  },
  "language_info": {
   "codemirror_mode": {
    "name": "ipython",
    "version": 3
   },
   "file_extension": ".py",
   "mimetype": "text/x-python",
   "name": "python",
   "nbconvert_exporter": "python",
   "pygments_lexer": "ipython3",
   "version": "3.11.4"
  }
 },
 "nbformat": 4,
 "nbformat_minor": 5
}
