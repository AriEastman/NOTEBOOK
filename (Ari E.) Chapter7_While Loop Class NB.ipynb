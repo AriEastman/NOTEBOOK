{
 "cells": [
  {
   "cell_type": "markdown",
   "metadata": {},
   "source": [
    "# While Loop\n",
    "* The for loop takes a collection of items and executes a block of code once for each item in the collection. \n",
    "* In contrast, the while loop runs as long as, or while, a certain condition is true."
   ]
  },
  {
   "cell_type": "markdown",
   "metadata": {},
   "source": [
    "## The while Loop in Action\n",
    "You can use a while loop to count up through a series of numbers. For\n",
    "example, the following while loop counts from 1 to 5:\n"
   ]
  },
  {
   "cell_type": "code",
   "execution_count": 1,
   "metadata": {},
   "outputs": [
    {
     "name": "stdout",
     "output_type": "stream",
     "text": [
      "1\n",
      "2\n",
      "3\n",
      "4\n",
      "5\n"
     ]
    }
   ],
   "source": [
    "# for loop to print number 1 to 5\n",
    "for i in range(1,6):\n",
    "    print(i)"
   ]
  },
  {
   "cell_type": "code",
   "execution_count": 2,
   "metadata": {},
   "outputs": [
    {
     "name": "stdout",
     "output_type": "stream",
     "text": [
      "1\n",
      "2\n",
      "3\n",
      "4\n",
      "5\n"
     ]
    }
   ],
   "source": [
    "# INTIALIZE \n",
    "j=1\n",
    "# CONDITION CHECK\n",
    "while j<=5:\n",
    "    print(j)\n",
    "    # INCREMENT OR ELSE IT WILL GENERATE INFINITE LOOP\n",
    "    j=j+1"
   ]
  },
  {
   "cell_type": "code",
   "execution_count": 3,
   "metadata": {},
   "outputs": [
    {
     "name": "stdout",
     "output_type": "stream",
     "text": [
      "10 11 12 13 14 15 16 17 18 19 20 21 22 23 24 25 26 27 28 29 30 31 32 33 34 35 36 37 38 39 40 41 42 43 44 45 46 47 48 49 50 "
     ]
    }
   ],
   "source": [
    "# Print Numbers 1 to 50 USING WHILE LOOP\n",
    "j=10\n",
    "while j<=50:\n",
    "    print(j, end=\" \")\n",
    "    j+=1"
   ]
  },
  {
   "cell_type": "code",
   "execution_count": 4,
   "metadata": {},
   "outputs": [
    {
     "name": "stdout",
     "output_type": "stream",
     "text": [
      "10 12 14 16 18 20 22 24 26 28 30 32 34 36 38 40 42 44 46 48 50 "
     ]
    }
   ],
   "source": [
    "# Print Even Numbers 1 to 50 USING WHILE LOOP\n",
    "j=10\n",
    "while j<=50:\n",
    "    if j%2==0:\n",
    "        print(j, end=\" \")\n",
    "    j+=1"
   ]
  },
  {
   "cell_type": "code",
   "execution_count": 5,
   "metadata": {},
   "outputs": [
    {
     "name": "stdout",
     "output_type": "stream",
     "text": [
      "15 17 19 21 23 25 27 29 "
     ]
    }
   ],
   "source": [
    "#Print ALL ODD Numbers 15 to 30 USING WHILE LOOP; EXAM PT2\n",
    "j=15\n",
    "while j<=30:\n",
    "    if j%2==1:\n",
    "        print(j, end=\" \")\n",
    "    j+=1"
   ]
  },
  {
   "cell_type": "code",
   "execution_count": 6,
   "metadata": {},
   "outputs": [
    {
     "name": "stdout",
     "output_type": "stream",
     "text": [
      "15 17 19 21 23 25 27 29 "
     ]
    }
   ],
   "source": [
    "for j in range(15,31):\n",
    "    if j%2==1:\n",
    "        print(j, end=\" \")"
   ]
  },
  {
   "cell_type": "code",
   "execution_count": 7,
   "metadata": {},
   "outputs": [
    {
     "name": "stdout",
     "output_type": "stream",
     "text": [
      "Hello Hello Hello Hello Hello Hello Hello Hello Hello Hello "
     ]
    }
   ],
   "source": [
    "#PRINT HELLO 10x USING FOR LOOP AND WHILE LOOP: FOR LOOP\n",
    "for i in range(10):\n",
    "    print(\"Hello\", end=\" \")"
   ]
  },
  {
   "cell_type": "code",
   "execution_count": 8,
   "metadata": {},
   "outputs": [
    {
     "name": "stdout",
     "output_type": "stream",
     "text": [
      "10 15 20 25 30 "
     ]
    }
   ],
   "source": [
    "for i in range(10,31):\n",
    "    if i%5==0:\n",
    "        print(i, end= \" \")"
   ]
  },
  {
   "cell_type": "code",
   "execution_count": 9,
   "metadata": {},
   "outputs": [
    {
     "name": "stdout",
     "output_type": "stream",
     "text": [
      "10 15 20 25 30 "
     ]
    }
   ],
   "source": [
    "i = 10\n",
    "while i <31:\n",
    "    if i%5==0:\n",
    "        print (i,  end= \" \")\n",
    "    i+=1"
   ]
  },
  {
   "cell_type": "markdown",
   "metadata": {},
   "source": [
    "## Letting the User Choose When to Quit"
   ]
  },
  {
   "cell_type": "code",
   "execution_count": 11,
   "metadata": {},
   "outputs": [
    {
     "name": "stdout",
     "output_type": "stream",
     "text": [
      "\n",
      "Tell me anything and I will repeat it back to you. Enter 'quit' if you want to end the loop.Hi There\n",
      "The user input is:  Hi There\n",
      "\n",
      "Tell me anything and I will repeat it back to you. Enter 'quit' if you want to end the loop.Hello\n",
      "The user input is:  Hello\n",
      "\n",
      "Tell me anything and I will repeat it back to you. Enter 'quit' if you want to end the loop.quit\n",
      "The user input is:  quit\n"
     ]
    }
   ],
   "source": [
    "prompt=\"\\nTell me anything and I will repeat it back to you. Enter \\'quit\\' if you want to end the loop.\"\n",
    "\n",
    "message=\" \" #INTILIAZE \n",
    "while message != 'quit':\n",
    "    message=input(prompt)\n",
    "    print(\"The user input is: \", message)"
   ]
  },
  {
   "cell_type": "markdown",
   "metadata": {},
   "source": [
    "## A Flag"
   ]
  },
  {
   "cell_type": "markdown",
   "metadata": {
    "slideshow": {
     "slide_type": "subslide"
    }
   },
   "source": [
    "### For a program that should run only as long as many conditions are true, you can define one variable that determines whether or not the entire program is active. This variable, called a `flag`, acts as a signal to the program."
   ]
  },
  {
   "cell_type": "code",
   "execution_count": 38,
   "metadata": {},
   "outputs": [],
   "source": [
    "# NOTES: The Flag is: active="
   ]
  },
  {
   "cell_type": "code",
   "execution_count": 12,
   "metadata": {},
   "outputs": [
    {
     "name": "stdout",
     "output_type": "stream",
     "text": [
      "\n",
      "Tell me anything and I will repeat it back to you. Enter 'quit' if you want to end the loop:  Hey\n",
      "Hey\n",
      "\n",
      "Tell me anything and I will repeat it back to you. Enter 'quit' if you want to end the loop:  Hi\n",
      "Hi\n",
      "\n",
      "Tell me anything and I will repeat it back to you. Enter 'quit' if you want to end the loop:  Repeat It Back\n",
      "Repeat It Back\n",
      "\n",
      "Tell me anything and I will repeat it back to you. Enter 'quit' if you want to end the loop:  quit\n"
     ]
    }
   ],
   "source": [
    "prompt=\"\\nTell me anything and I will repeat it back to you. Enter \\'quit\\' if you want to end the loop:  \"\n",
    "\n",
    "# FLAG\n",
    "message= \" \"\n",
    "active=True\n",
    "while active:\n",
    "    message=input(prompt)\n",
    "    if message=='quit':\n",
    "        active=False #FLAG TURNED OFF\n",
    "    else:\n",
    "        print(message)"
   ]
  },
  {
   "cell_type": "markdown",
   "metadata": {},
   "source": [
    "## Using break to Exit a Loop\n",
    "To exit a while loop immediately without running any remaining code in the\n",
    "loop, regardless of the results of any conditional test, use the break statement."
   ]
  },
  {
   "cell_type": "code",
   "execution_count": 13,
   "metadata": {},
   "outputs": [
    {
     "name": "stdout",
     "output_type": "stream",
     "text": [
      "\n",
      "Tell me the name of some of your friends. Enter 'quit' if you want to end the loop.Ari\n",
      "Ari\n",
      "\n",
      "Tell me the name of some of your friends. Enter 'quit' if you want to end the loop.Dilbert\n",
      "Dilbert\n",
      "\n",
      "Tell me the name of some of your friends. Enter 'quit' if you want to end the loop.quit\n"
     ]
    }
   ],
   "source": [
    "prompt=\"\\nTell me the name of some of your friends. Enter \\'quit\\' if you want to end the loop.\"\n",
    "friends= \" \"\n",
    "active= True\n",
    "while active:\n",
    "    friends=input(prompt)\n",
    "    if friends=='quit':\n",
    "        break\n",
    "    else:\n",
    "        print(friends)"
   ]
  },
  {
   "cell_type": "markdown",
   "metadata": {},
   "source": [
    "### Guess the number"
   ]
  },
  {
   "cell_type": "code",
   "execution_count": 14,
   "metadata": {},
   "outputs": [
    {
     "name": "stdout",
     "output_type": "stream",
     "text": [
      "\n",
      "Guess a number between 1 to 10: 1\n",
      "1\n",
      "Guess Again\n",
      "\n",
      "Guess a number between 1 to 10: 8\n",
      "8\n",
      "Guess Again\n",
      "\n",
      "Guess a number between 1 to 10: 5\n",
      "Correct Guess\n"
     ]
    }
   ],
   "source": [
    "prompt= \"\\nGuess a number between 1 to 10: \"\n",
    "number= 0\n",
    "active= True\n",
    "while active:\n",
    "    number= int(input(prompt))\n",
    "    if number==5:\n",
    "        print(\"Correct Guess\")\n",
    "        break\n",
    "    else:\n",
    "        print(number)\n",
    "        print(\"Guess Again\")"
   ]
  },
  {
   "cell_type": "markdown",
   "metadata": {},
   "source": [
    "### Guess the number with proper direction"
   ]
  },
  {
   "cell_type": "code",
   "execution_count": 16,
   "metadata": {},
   "outputs": [
    {
     "name": "stdout",
     "output_type": "stream",
     "text": [
      "\n",
      " Guess a number between 1 to 10: 2\n",
      "Guess a number BIGGER than current guess\n",
      "\n",
      " Guess a number between 1 to 10: 12\n",
      "Not a correct number, guess again\n",
      "\n",
      " Guess a number between 1 to 10: 9\n",
      "Guess a number SMALLER than current guess\n",
      "\n",
      " Guess a number between 1 to 10: 5\n",
      "You have guessed correctly!\n"
     ]
    }
   ],
   "source": [
    "prompt = \"\\n Guess a number between 1 to 10: \"\n",
    "active = True\n",
    "number = 0\n",
    "while active:\n",
    "    number = int(input(prompt))\n",
    "    if number==5:\n",
    "        print(\"You have guessed correctly!\")\n",
    "        break\n",
    "    elif number<5:\n",
    "        print(\"Guess a number BIGGER than current guess\")\n",
    "    elif number>5 and number<=10:\n",
    "        print(\"Guess a number SMALLER than current guess\")\n",
    "    elif number>10:\n",
    "        print(\"Not a correct number, guess again\")\n",
    "    else:\n",
    "        print(\"Not a correct input, guess again\")"
   ]
  },
  {
   "cell_type": "markdown",
   "metadata": {},
   "source": [
    "### Break with for loop"
   ]
  },
  {
   "cell_type": "code",
   "execution_count": 17,
   "metadata": {},
   "outputs": [
    {
     "name": "stdout",
     "output_type": "stream",
     "text": [
      "10 11 12 13 14 "
     ]
    }
   ],
   "source": [
    "# PRINT THE NUMBERS BETWEEN 10 and 30\n",
    "# BREAK THE LOOP AT THE NUMBER 15\n",
    "for i in range(10,30):\n",
    "    if i==15:\n",
    "        break\n",
    "    print(i, end= \" \")"
   ]
  },
  {
   "cell_type": "markdown",
   "metadata": {},
   "source": [
    "### Using continue in a Loop\n",
    "- Rather than breaking out of a loop entirely without executing the rest of its code, \n",
    "- you can use the continue statement to return to the beginning of the loop based on the result of a conditional test. \n",
    "- For example, consider a loop that counts from 1 to 10 but prints only the odd numbers in that range:"
   ]
  },
  {
   "cell_type": "code",
   "execution_count": 37,
   "metadata": {},
   "outputs": [],
   "source": [
    "# CONTINUE WILL NOT WORK INSIDE A WHY LOOP; IT WILL GENERATE A INFINITE LOOP\n",
    "# FOR LOOP WORKS"
   ]
  },
  {
   "cell_type": "code",
   "execution_count": 18,
   "metadata": {},
   "outputs": [
    {
     "name": "stdout",
     "output_type": "stream",
     "text": [
      "10 11 12 13 14 16 17 18 19 20 21 22 23 24 25 26 27 28 29 "
     ]
    }
   ],
   "source": [
    "for i in range(10,30):\n",
    "    if i==15:\n",
    "        continue\n",
    "    print(i, end= \" \")"
   ]
  },
  {
   "cell_type": "code",
   "execution_count": 19,
   "metadata": {},
   "outputs": [
    {
     "name": "stdout",
     "output_type": "stream",
     "text": [
      "1 3 5 7 9 "
     ]
    }
   ],
   "source": [
    "# CONSIDER A LOOP THAT COUNTS FROM 1 TO 10 BUT PRINTS ONLY THE ODD\n",
    "for i in range (1,11):\n",
    "    if i%2==0:\n",
    "        continue\n",
    "    print(i, end= \" \")"
   ]
  },
  {
   "cell_type": "markdown",
   "metadata": {},
   "source": [
    "### consider a loop (while/for) that counts from 10 to 20 but prints only the even numbers in that range, use continue statement: This will Generate Infinite Loop"
   ]
  },
  {
   "cell_type": "markdown",
   "metadata": {},
   "source": [
    "### Avoiding Infinite Loops"
   ]
  },
  {
   "cell_type": "code",
   "execution_count": 24,
   "metadata": {},
   "outputs": [],
   "source": [
    "# i=1\n",
    "# while True:\n",
    "    # print(i)\n",
    "    # i+=1\n",
    "#IOPub data rate exceeded.\n",
    "#The notebook server will temporarily stop sending output\n",
    "#to the client in order to avoid crashing it.\n",
    "#To change this limit, set the config variable\n",
    "#`--NotebookApp.iopub_data_rate_limit`.\n",
    "\n",
    "#Current values:\n",
    "#NotebookApp.iopub_data_rate_limit=1000000.0 (bytes/sec)\n",
    "#NotebookApp.rate_limit_window=3.0 (secs)\n"
   ]
  },
  {
   "cell_type": "markdown",
   "metadata": {},
   "source": [
    "### Movie Tickets: A movie theater charges different ticket prices depending on a person’s age. \n",
    "- If a person is under the age of 3, the ticket is free; if they are between 3 and 12, the ticket is 10 dollar\n",
    "- if they are over age 12, the ticket is 15 dollar. \n",
    "Write a while loop in which you ask users their age, and then tell them the cost of their movie ticket."
   ]
  },
  {
   "cell_type": "code",
   "execution_count": 23,
   "metadata": {},
   "outputs": [
    {
     "name": "stdout",
     "output_type": "stream",
     "text": [
      "\n",
      "Enter The Age. input -1 to quit: 2\n",
      "The Ticket is FREE.\n",
      "\n",
      "Enter The Age. input -1 to quit: 6\n",
      "Pay 10$ for Ticket.\n",
      "\n",
      "Enter The Age. input -1 to quit: 23\n",
      "Pay 15$ for The Ticket\n",
      "\n",
      "Enter The Age. input -1 to quit: -1\n"
     ]
    }
   ],
   "source": [
    "prompt= \"\\nEnter The Age. input -1 to quit: \"\n",
    "active= True\n",
    "age=0\n",
    "while active:\n",
    "    age=int(input(prompt))\n",
    "    if age==-1:\n",
    "        break\n",
    "    elif age<3:\n",
    "        print(\"The Ticket is FREE.\")\n",
    "    elif age<12:\n",
    "        print(\"Pay 10$ for Ticket.\")\n",
    "    else:\n",
    "        print(\"Pay 15$ for The Ticket\")"
   ]
  },
  {
   "cell_type": "markdown",
   "metadata": {},
   "source": [
    "## Using a while Loop with Lists and Dictionaries"
   ]
  },
  {
   "cell_type": "markdown",
   "metadata": {},
   "source": [
    "### Moving Items from One List to Another"
   ]
  },
  {
   "cell_type": "code",
   "execution_count": 36,
   "metadata": {},
   "outputs": [],
   "source": [
    "# NAME OF FRIENDS ; MOVE FROM FRIENDS LIST TO PEERS LIST\n",
    "# UNPACK LIST\n",
    "\n",
    "#Hold Is A String"
   ]
  },
  {
   "cell_type": "code",
   "execution_count": 25,
   "metadata": {},
   "outputs": [
    {
     "name": "stdout",
     "output_type": "stream",
     "text": [
      "Ashley\n",
      "John\n",
      "Sam\n",
      "Harry\n",
      "The Final List:  ['Ashley', 'John', 'Sam', 'Harry']\n",
      "Ashley is my peer\n",
      "John is my peer\n",
      "Sam is my peer\n",
      "Harry is my peer\n"
     ]
    }
   ],
   "source": [
    "friends=['Harry', 'Sam', 'John', 'Ashley']\n",
    "peers=[]\n",
    "hold=\" \"\n",
    "while friends:\n",
    "    hold= friends.pop()\n",
    "    print(hold)\n",
    "    peers.append(hold)\n",
    "print(f\"The Final List: \", peers)\n",
    "\n",
    "\n",
    "#UNPACK LIST\n",
    "for name in peers:\n",
    "    print(f\"{name} is my peer\")"
   ]
  },
  {
   "cell_type": "markdown",
   "metadata": {},
   "source": [
    "### Removing All Instances of Specific Values from a List"
   ]
  },
  {
   "cell_type": "code",
   "execution_count": 26,
   "metadata": {},
   "outputs": [
    {
     "name": "stdout",
     "output_type": "stream",
     "text": [
      "['dog', 'cat', 'dog', 'goldfish', 'cat', 'rabbit', 'cat']\n",
      "New List: ['dog', 'dog', 'goldfish', 'rabbit']\n",
      "Second Version List: ['goldfish', 'rabbit']\n"
     ]
    }
   ],
   "source": [
    "pets=['dog', 'cat', 'dog', 'goldfish', 'cat', 'rabbit', 'cat']\n",
    "print(pets)\n",
    "\n",
    "# REMOVE CAT FROM A LIST\n",
    "\n",
    "while 'cat' in pets:\n",
    "    pets.remove('cat')\n",
    "print(f\"New List: {pets}\")\n",
    "\n",
    "while 'dog' in pets:\n",
    "    pets.remove('dog')\n",
    "print(f\"Second Version List: {pets}\")"
   ]
  },
  {
   "cell_type": "markdown",
   "metadata": {},
   "source": [
    "### Filling a Dictionary with User Input"
   ]
  },
  {
   "cell_type": "markdown",
   "metadata": {},
   "source": [
    "#### PROJECT RESOURCES\n",
    "##### Asking User to input name as dictionary KEYS and there favorite food as a dictionary VALUE\n"
   ]
  },
  {
   "cell_type": "code",
   "execution_count": 27,
   "metadata": {},
   "outputs": [
    {
     "name": "stdout",
     "output_type": "stream",
     "text": [
      "What is Your Name?: Ari\n",
      "What is Your Favorite Food?: Apple\n",
      "{'Ari': 'Apple'}\n",
      "Would You like to add another Entry?: (Yes/No)yes\n",
      "What is Your Name?: Arsh\n",
      "What is Your Favorite Food?: Pizza\n",
      "{'Ari': 'Apple', 'Arsh': 'Pizza'}\n",
      "Would You like to add another Entry?: (Yes/No)no\n",
      "{'Ari': 'Apple', 'Arsh': 'Pizza'}\n",
      "Ari love to eat Apple\n",
      "Arsh love to eat Pizza\n"
     ]
    }
   ],
   "source": [
    "response={}\n",
    "#Poll IS a FLAG\n",
    "poll=True\n",
    "while poll:\n",
    "    name= input(\"What is Your Name?: \")\n",
    "    food= input(\"What is Your Favorite Food?: \")\n",
    "    #UPDATE() - TO ADD ITEMS TO A DICTIOANRY\n",
    "    response.update({name:food})\n",
    "    print(response)\n",
    "    repeat=input(\"Would You like to add another Entry?: (Yes/No)\")\n",
    "    if repeat=='no':\n",
    "        poll=False\n",
    "        #break\n",
    "print(response)\n",
    "\n",
    "#UNPACK DICTIONARY\n",
    "\n",
    "for name,food in response.items():\n",
    "    print(f'{name} love to eat {food}')"
   ]
  },
  {
   "cell_type": "markdown",
   "metadata": {},
   "source": [
    "## Deli: Make a list called sandwich_orders and fill it with the names of various sandwiches. \n",
    "- Then make an empty list called finished_sandwiches. \n",
    "- Loop through the list of sandwich orders and print a message for each order, such as I made your tuna sandwich. \n",
    "- As each sandwich is made, move it to the list of finished sandwiches. \n",
    "- After all the sandwiches have been made, print a message listing each sandwich that was made."
   ]
  },
  {
   "cell_type": "code",
   "execution_count": null,
   "metadata": {},
   "outputs": [],
   "source": [
    "sandwich_orders = ['Tuna', 'Turkey', 'Ham', 'Vegan']\n",
    "finished_sandwiches = []\n",
    "\n",
    "while sandwich_orders:\n",
    "    current_sandwich = sandwich_orders.pop()\n",
    "    print(\"Im working on your \" + current_sandwich + \" sandwich.\")\n",
    "    finished_sandwiches.append(current_sandwich)\n",
    "    \n",
    "print(\"\\n\")\n",
    "\n",
    "for sandwich in finished_sandwiches:\n",
    "    print(\"I made a \" + sandwich + \" sandwich.\")"
   ]
  },
  {
   "cell_type": "markdown",
   "metadata": {},
   "source": [
    "## Write a program to print n natural number in descending order using a while loop.\n"
   ]
  },
  {
   "cell_type": "code",
   "execution_count": 28,
   "metadata": {},
   "outputs": [
    {
     "name": "stdout",
     "output_type": "stream",
     "text": [
      "Enter The Value of n: 5\n",
      "5\n",
      "4\n",
      "3\n",
      "2\n",
      "1\n"
     ]
    }
   ],
   "source": [
    "n=int(input(\"Enter The Value of n: \"))\n",
    "#LOOP WILL END AT ZERO (0)\n",
    "while n!=0:\n",
    "    print(n)\n",
    "    n=n-1"
   ]
  },
  {
   "cell_type": "markdown",
   "metadata": {},
   "source": [
    "## Factorial of a number"
   ]
  },
  {
   "cell_type": "code",
   "execution_count": 29,
   "metadata": {},
   "outputs": [
    {
     "name": "stdout",
     "output_type": "stream",
     "text": [
      "Enter A Number: 10\n",
      "3628800\n"
     ]
    }
   ],
   "source": [
    "n=int(input(\"Enter A Number: \"))\n",
    "fact=1\n",
    "while(n):\n",
    "    fact=fact*n\n",
    "    n=n-1\n",
    "print(fact)"
   ]
  },
  {
   "cell_type": "markdown",
   "metadata": {},
   "source": [
    "## Take 10 integers from keyboard using loop and print their sum and average value on the screen"
   ]
  },
  {
   "cell_type": "code",
   "execution_count": 30,
   "metadata": {},
   "outputs": [
    {
     "name": "stdout",
     "output_type": "stream",
     "text": [
      "Enter The Number: 10\n",
      "Enter The Number: 9\n",
      "Enter The Number: 8\n",
      "Enter The Number: 7\n",
      "Enter The Number: 6\n",
      "Enter The Number: 5\n",
      "Enter The Number: 4\n",
      "Enter The Number: 3\n",
      "Enter The Number: 2\n",
      "Enter The Number: 1\n",
      "Sum: 55\n",
      "Average: 5.5\n"
     ]
    }
   ],
   "source": [
    "sum=0\n",
    "i=0\n",
    "while i<10:\n",
    "    num = int(input(\"Enter The Number: \"))\n",
    "    sum = sum+num\n",
    "    i = i+1\n",
    "print(\"Sum:\", sum)\n",
    "print(\"Average:\", sum/10)"
   ]
  },
  {
   "attachments": {
    "image.png": {
     "image/png": "[encoded data removed]"
    }
   },
   "cell_type": "markdown",
   "metadata": {},
   "source": [
    "## Print the following patterns using loop :\n",
    "![image.png](attachment:image.png)"
   ]
  },
  {
   "cell_type": "code",
   "execution_count": 31,
   "metadata": {},
   "outputs": [
    {
     "name": "stdout",
     "output_type": "stream",
     "text": [
      "*\n",
      "**\n",
      "***\n",
      "****\n",
      "*****\n",
      "******\n",
      "*******\n",
      "********\n",
      "*********\n",
      "**********\n"
     ]
    }
   ],
   "source": [
    "i=1\n",
    "while i<=10:\n",
    "    print(i*\"*\")\n",
    "    i+=1"
   ]
  },
  {
   "cell_type": "markdown",
   "metadata": {},
   "source": [
    "## Write a program to display the first 7 multiples of 7.\n"
   ]
  },
  {
   "cell_type": "code",
   "execution_count": 32,
   "metadata": {},
   "outputs": [
    {
     "name": "stdout",
     "output_type": "stream",
     "text": [
      "7 14 21 28 35 42 49 "
     ]
    }
   ],
   "source": [
    "count=0\n",
    "for i in range (1,100):\n",
    "    if i%7==0:\n",
    "        print(i, end = \" \")\n",
    "        count=count+1\n",
    "        if count==7:\n",
    "            break"
   ]
  },
  {
   "cell_type": "markdown",
   "metadata": {},
   "source": [
    "## Write a program that appends the square of each number to a new list."
   ]
  },
  {
   "cell_type": "code",
   "execution_count": 33,
   "metadata": {},
   "outputs": [
    {
     "name": "stdout",
     "output_type": "stream",
     "text": [
      "The Result:  [1, 4, 9, 16, 25]\n"
     ]
    }
   ],
   "source": [
    "x=[1,2,3,4,5]\n",
    "z=[]\n",
    "for i in range(len(x)):\n",
    "    z.append(x[i]**2)\n",
    "print(\"The Result: \", z)"
   ]
  },
  {
   "cell_type": "markdown",
   "metadata": {},
   "source": [
    "## Separate positive and negative number from a list.\n",
    "x = [23,12,-4,23,-9,21,3,-45,-8]"
   ]
  },
  {
   "cell_type": "code",
   "execution_count": 34,
   "metadata": {},
   "outputs": [
    {
     "name": "stdout",
     "output_type": "stream",
     "text": [
      "The Negative Numbers [-4, -9, -45, -8]\n",
      "The Positive Numbers [23, 12, 23, 21, 3]\n"
     ]
    }
   ],
   "source": [
    "x = [23,12,-4,23,-9,21,3,-45,-8]\n",
    "pos=[]\n",
    "neg=[]\n",
    "for i in range(len(x)):\n",
    "    if x[i]<0:\n",
    "        neg.append(x[i])\n",
    "    else:\n",
    "        pos.append(x[i])\n",
    "print(\"The Negative Numbers\", neg)\n",
    "print(\"The Positive Numbers\", pos)"
   ]
  },
  {
   "cell_type": "markdown",
   "metadata": {},
   "source": [
    "# Shopping\n",
    "\n",
    "### create a grocery dictionary with 5 items and the quantity\n",
    "* key is item name\n",
    "* Value is quantity"
   ]
  },
  {
   "cell_type": "code",
   "execution_count": 35,
   "metadata": {},
   "outputs": [
    {
     "name": "stdout",
     "output_type": "stream",
     "text": [
      "Enter The Fruit Name: Apple\n",
      "Enter The Quantity: 12\n",
      "Would You Like to Repeat? (YES / NO): NO\n",
      "Shopping List\n",
      "12 Apple\n"
     ]
    }
   ],
   "source": [
    "grocery_list={}\n",
    "while True:\n",
    "    fruit=input(\"Enter The Fruit Name: \")\n",
    "    quantity=int(input(\"Enter The Quantity: \"))\n",
    "    grocery_list.update({fruit:quantity})\n",
    "    repeat=input(\"Would You Like to Repeat? (YES / NO): \")\n",
    "    if repeat==\"NO\":\n",
    "        break\n",
    "print(\"Shopping List\")\n",
    "for k,v in grocery_list.items():\n",
    "    print(f\"{v} {k}\")"
   ]
  }
 ],
 "metadata": {
  "celltoolbar": "Slideshow",
  "kernelspec": {
   "display_name": "Python 3 (ipykernel)",
   "language": "python",
   "name": "python3"
  },
  "language_info": {
   "codemirror_mode": {
    "name": "ipython",
    "version": 3
   },
   "file_extension": ".py",
   "mimetype": "text/x-python",
   "name": "python",
   "nbconvert_exporter": "python",
   "pygments_lexer": "ipython3",
   "version": "3.11.4"
  }
 },
 "nbformat": 4,
 "nbformat_minor": 2
}
