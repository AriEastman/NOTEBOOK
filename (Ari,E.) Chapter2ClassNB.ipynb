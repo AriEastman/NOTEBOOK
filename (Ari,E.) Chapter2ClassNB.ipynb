{
 "cells": [
  {
   "cell_type": "markdown",
   "id": "81b2bbc8",
   "metadata": {
    "slideshow": {
     "slide_type": "slide"
    }
   },
   "source": [
    "# Chapter 2: Variables and and Simple Data Types\n",
    "* A variable name is an **identifier**. \n",
    "* May consist of letters, digits and underscores (`_`) but may not begin with a digit. \n",
    "* Python is _case sensitive_. \n",
    "* Each value in Python has a type that indicates the kind of data the value represents. "
   ]
  },
  {
   "cell_type": "markdown",
   "id": "9f73fa21",
   "metadata": {
    "slideshow": {
     "slide_type": "slide"
    }
   },
   "source": [
    "####  Statement creates `x` and uses the **assignment symbol (`=`)** to give `x` a value. "
   ]
  },
  {
   "cell_type": "code",
   "execution_count": 1,
   "id": "92846dd3",
   "metadata": {},
   "outputs": [
    {
     "name": "stdout",
     "output_type": "stream",
     "text": [
      "Hello World\n"
     ]
    }
   ],
   "source": [
    "x_0= \"Hello World\"\n",
    "print(x_0)"
   ]
  },
  {
   "cell_type": "markdown",
   "id": "87338e34",
   "metadata": {},
   "source": [
    "### Print a message"
   ]
  },
  {
   "cell_type": "code",
   "execution_count": 3,
   "id": "3bace5f9",
   "metadata": {},
   "outputs": [
    {
     "name": "stdout",
     "output_type": "stream",
     "text": [
      "Welcome To The Python Programming Langauge\n"
     ]
    }
   ],
   "source": [
    "_x0= \"Welcome To The Python Programming Langauge\"\n",
    "print(_x0)"
   ]
  },
  {
   "cell_type": "code",
   "execution_count": null,
   "id": "5d5ec419",
   "metadata": {},
   "outputs": [],
   "source": [
    "#A VARIABLE NAME WITH A DIGIT ; 0_x= \"Python\""
   ]
  },
  {
   "cell_type": "markdown",
   "id": "89fec02b",
   "metadata": {},
   "source": [
    "### Try to print a Simple Message: Store a message in a variable, and then print that message."
   ]
  },
  {
   "cell_type": "code",
   "execution_count": 7,
   "id": "ff1adecc",
   "metadata": {},
   "outputs": [
    {
     "name": "stdout",
     "output_type": "stream",
     "text": [
      "Simple Message\n"
     ]
    }
   ],
   "source": [
    "message= \"Simple Message\"\n",
    "print(message)"
   ]
  },
  {
   "cell_type": "markdown",
   "id": "be203204",
   "metadata": {},
   "source": [
    "## A string is simply a series of characters. Anything inside quotes is considered a string in Python, and you can use `single` or `double quotes` around your strings\n",
    "### \"This is a string.\"\n",
    "### 'This is also a string.'"
   ]
  },
  {
   "cell_type": "markdown",
   "id": "adae7f7c",
   "metadata": {},
   "source": [
    "###  Build in String methods\n",
    "Directory: dir('  ')"
   ]
  },
  {
   "cell_type": "code",
   "execution_count": null,
   "id": "2a2a4f1f",
   "metadata": {},
   "outputs": [],
   "source": []
  },
  {
   "cell_type": "code",
   "execution_count": 1,
   "id": "972ece85",
   "metadata": {},
   "outputs": [
    {
     "data": {
      "text/plain": [
       "['__add__',\n",
       " '__class__',\n",
       " '__contains__',\n",
       " '__delattr__',\n",
       " '__dir__',\n",
       " '__doc__',\n",
       " '__eq__',\n",
       " '__format__',\n",
       " '__ge__',\n",
       " '__getattribute__',\n",
       " '__getitem__',\n",
       " '__getnewargs__',\n",
       " '__gt__',\n",
       " '__hash__',\n",
       " '__init__',\n",
       " '__init_subclass__',\n",
       " '__iter__',\n",
       " '__le__',\n",
       " '__len__',\n",
       " '__lt__',\n",
       " '__mod__',\n",
       " '__mul__',\n",
       " '__ne__',\n",
       " '__new__',\n",
       " '__reduce__',\n",
       " '__reduce_ex__',\n",
       " '__repr__',\n",
       " '__rmod__',\n",
       " '__rmul__',\n",
       " '__setattr__',\n",
       " '__sizeof__',\n",
       " '__str__',\n",
       " '__subclasshook__',\n",
       " 'capitalize',\n",
       " 'casefold',\n",
       " 'center',\n",
       " 'count',\n",
       " 'encode',\n",
       " 'endswith',\n",
       " 'expandtabs',\n",
       " 'find',\n",
       " 'format',\n",
       " 'format_map',\n",
       " 'index',\n",
       " 'isalnum',\n",
       " 'isalpha',\n",
       " 'isascii',\n",
       " 'isdecimal',\n",
       " 'isdigit',\n",
       " 'isidentifier',\n",
       " 'islower',\n",
       " 'isnumeric',\n",
       " 'isprintable',\n",
       " 'isspace',\n",
       " 'istitle',\n",
       " 'isupper',\n",
       " 'join',\n",
       " 'ljust',\n",
       " 'lower',\n",
       " 'lstrip',\n",
       " 'maketrans',\n",
       " 'partition',\n",
       " 'replace',\n",
       " 'rfind',\n",
       " 'rindex',\n",
       " 'rjust',\n",
       " 'rpartition',\n",
       " 'rsplit',\n",
       " 'rstrip',\n",
       " 'split',\n",
       " 'splitlines',\n",
       " 'startswith',\n",
       " 'strip',\n",
       " 'swapcase',\n",
       " 'title',\n",
       " 'translate',\n",
       " 'upper',\n",
       " 'zfill']"
      ]
     },
     "execution_count": 1,
     "metadata": {},
     "output_type": "execute_result"
    }
   ],
   "source": [
    "dir(\" \")"
   ]
  },
  {
   "cell_type": "code",
   "execution_count": 8,
   "id": "691e6b3a",
   "metadata": {},
   "outputs": [
    {
     "name": "stdout",
     "output_type": "stream",
     "text": [
      "PyThoN PRogramming LanGuage\n",
      "the upper case:  PYTHON PROGRAMMING LANGUAGE\n"
     ]
    }
   ],
   "source": [
    "# make uppercase\n",
    "message = \"PyThoN PRogramming LanGuage\"\n",
    "print(message)\n",
    "print(\"the upper case: \",message.upper())"
   ]
  },
  {
   "cell_type": "code",
   "execution_count": 9,
   "id": "be0d6351",
   "metadata": {},
   "outputs": [
    {
     "name": "stdout",
     "output_type": "stream",
     "text": [
      "The Lower Case:  python programming language\n"
     ]
    }
   ],
   "source": [
    "# make lowercase\n",
    "print(\"The Lower Case: \", message.lower())"
   ]
  },
  {
   "cell_type": "code",
   "execution_count": 10,
   "id": "bdcfb17f",
   "metadata": {},
   "outputs": [
    {
     "name": "stdout",
     "output_type": "stream",
     "text": [
      "The Capitilized Case:  Python programming language\n"
     ]
    }
   ],
   "source": [
    "# capitalize\n",
    "print(\"The Capitilized Case: \", message.capitalize())"
   ]
  },
  {
   "cell_type": "code",
   "execution_count": 11,
   "id": "39359e69",
   "metadata": {},
   "outputs": [
    {
     "name": "stdout",
     "output_type": "stream",
     "text": [
      "The Title Case :  Python Programming Language\n"
     ]
    }
   ],
   "source": [
    "# title\n",
    "print(\"The Title Case : \", message.title())"
   ]
  },
  {
   "cell_type": "code",
   "execution_count": 12,
   "id": "98ccee67",
   "metadata": {},
   "outputs": [
    {
     "name": "stdout",
     "output_type": "stream",
     "text": [
      "Welcome to python programming language\n"
     ]
    }
   ],
   "source": [
    "# Concatination\n",
    "message_new=message.lower()\n",
    "print(\"Welcome to \" + message_new)"
   ]
  },
  {
   "cell_type": "code",
   "execution_count": 13,
   "id": "c157d46f",
   "metadata": {},
   "outputs": [
    {
     "name": "stdout",
     "output_type": "stream",
     "text": [
      "python programming language\n"
     ]
    },
    {
     "data": {
      "text/plain": [
       "27"
      ]
     },
     "execution_count": 13,
     "metadata": {},
     "output_type": "execute_result"
    }
   ],
   "source": [
    "# length\n",
    "message_new\n",
    "print(message_new)\n",
    "len(message_new)"
   ]
  },
  {
   "cell_type": "markdown",
   "id": "5be05c33",
   "metadata": {},
   "source": [
    "### Format the string using f-string\n",
    "`formatted string literals,` **f-strings** are string literals that have an f at the beginning and curly braces containing expressions that will be replaced with their values."
   ]
  },
  {
   "cell_type": "code",
   "execution_count": 14,
   "id": "8a1254b0",
   "metadata": {},
   "outputs": [],
   "source": [
    "name= \"Ari\"\n",
    "age= 19\n",
    "#RUN BEFORE NEXT STRING"
   ]
  },
  {
   "cell_type": "code",
   "execution_count": 15,
   "id": "8f5c9124",
   "metadata": {},
   "outputs": [
    {
     "name": "stdout",
     "output_type": "stream",
     "text": [
      "the name is Ari\n"
     ]
    }
   ],
   "source": [
    "print(\"the name is \" + name)"
   ]
  },
  {
   "cell_type": "code",
   "execution_count": 17,
   "id": "846ba0f1",
   "metadata": {},
   "outputs": [
    {
     "name": "stdout",
     "output_type": "stream",
     "text": [
      "the age is 19\n"
     ]
    }
   ],
   "source": [
    "#PRINT(\"THE AGE IS \" + AGE)\n",
    "# TYPE ERROR AS WE CAN NOT CONCENTRATE A STRING WITH A NUMBER INTERGER\n",
    "print(\"the age is\" , age)"
   ]
  },
  {
   "cell_type": "code",
   "execution_count": 18,
   "id": "35cf172c",
   "metadata": {},
   "outputs": [
    {
     "name": "stdout",
     "output_type": "stream",
     "text": [
      "The name is Ari. The age is 19.\n"
     ]
    }
   ],
   "source": [
    "print(f\"The name is {name}. The age is {age}.\")"
   ]
  },
  {
   "cell_type": "code",
   "execution_count": 19,
   "id": "41067382",
   "metadata": {},
   "outputs": [
    {
     "name": "stdout",
     "output_type": "stream",
     "text": [
      "The First Number is 19. The Second Number Is 38.\n",
      "The Multiplication Of The First and The Second Number is 722.\n"
     ]
    }
   ],
   "source": [
    "number1= 19\n",
    "number2= 38\n",
    "print(f\"The First Number is {number1}. The Second Number Is {number2}.\")\n",
    "print(f\"The Multiplication Of The First and The Second Number is {number2 * number1}.\")"
   ]
  },
  {
   "cell_type": "markdown",
   "id": "9bdf8bca",
   "metadata": {},
   "source": [
    "## Practice1:\n",
    "1. Personal Message: Store a person’s name in a variable, and print a message\n",
    "to that person. Your message should be simple, such as, “Hello Eric,\n",
    "would you like to learn some Python today?”\n",
    "2. Name Cases: Store a person’s name in a variable, and then print that person’s\n",
    "name in lowercase, uppercase, and titlecase."
   ]
  },
  {
   "cell_type": "code",
   "execution_count": 21,
   "id": "ac1df096",
   "metadata": {},
   "outputs": [
    {
     "name": "stdout",
     "output_type": "stream",
     "text": [
      "Hello Arsh.\n"
     ]
    }
   ],
   "source": [
    "name= \"Arsh\"\n",
    "print(f\"Hello {name}.\")"
   ]
  },
  {
   "cell_type": "code",
   "execution_count": 28,
   "id": "69ddf2f9",
   "metadata": {},
   "outputs": [
    {
     "name": "stdout",
     "output_type": "stream",
     "text": [
      "Uppercase:  ARSH\n"
     ]
    }
   ],
   "source": [
    "name= \"Arsh\"\n",
    "print(\"Uppercase: \", name.upper())"
   ]
  },
  {
   "cell_type": "code",
   "execution_count": 27,
   "id": "cec8c27b",
   "metadata": {},
   "outputs": [
    {
     "name": "stdout",
     "output_type": "stream",
     "text": [
      "Lower:  arsh\n"
     ]
    }
   ],
   "source": [
    "print(\"Lower: \", name.lower())"
   ]
  },
  {
   "cell_type": "code",
   "execution_count": 29,
   "id": "beccdee1",
   "metadata": {},
   "outputs": [
    {
     "name": "stdout",
     "output_type": "stream",
     "text": [
      "Titlecase:  Arsh\n"
     ]
    }
   ],
   "source": [
    "print(\"Titlecase: \", name.title())"
   ]
  },
  {
   "cell_type": "code",
   "execution_count": 35,
   "id": "4502fcc5",
   "metadata": {},
   "outputs": [
    {
     "name": "stdout",
     "output_type": "stream",
     "text": [
      "Hello Arsh would you like to learn some Python today?.\n"
     ]
    }
   ],
   "source": [
    "print(f\"Hello {name} would you like to learn some Python today?.\")"
   ]
  },
  {
   "cell_type": "markdown",
   "id": "1f7191b0",
   "metadata": {},
   "source": [
    "## Adding Whitespace to Strings with Tabs or Newlines or  quotation\n",
    "* A backslash (`\\`) in a string is the **escape character**. \n",
    "* The backslash and the character immediately following it form an **escape sequence**. \n",
    "\n",
    "#### 2.4.2 Other Escape Sequences\n",
    "| Escape sequence | Description\n",
    "| :------- | :------------\n",
    "| `\\n` | Insert a newline character in a string. When the string is displayed, for each newline, move the screen cursor to the beginning of the next line. \n",
    "| `\\t` | Insert a horizontal tab. When the string is displayed, for each tab, move the screen cursor to the next tab stop. \n",
    "| `\\\\` | Insert a backslash character in a string.\n",
    "| `\\\"` | Insert a double quote character in a string.\n",
    "| `\\'` | Insert a single quote character in a string."
   ]
  },
  {
   "cell_type": "code",
   "execution_count": 1,
   "id": "ed57b62f",
   "metadata": {},
   "outputs": [
    {
     "name": "stdout",
     "output_type": "stream",
     "text": [
      "Insert \ta \tnewline \tcharacter \tin \ta \tstring.\n"
     ]
    }
   ],
   "source": [
    "print(\"Insert \\ta \\tnewline \\tcharacter \\tin \\ta \\tstring.\")"
   ]
  },
  {
   "cell_type": "code",
   "execution_count": 1,
   "id": "161cc541",
   "metadata": {},
   "outputs": [
    {
     "name": "stdout",
     "output_type": "stream",
     "text": [
      "The Student Name Is : Ari\n"
     ]
    }
   ],
   "source": [
    "print('The Student Name Is : Ari')"
   ]
  },
  {
   "cell_type": "markdown",
   "id": "59e57742",
   "metadata": {},
   "source": [
    "## Useful methods for split a string"
   ]
  },
  {
   "cell_type": "code",
   "execution_count": null,
   "id": "972a849e",
   "metadata": {},
   "outputs": [],
   "source": [
    "#message.split(sepa=\"\")"
   ]
  },
  {
   "cell_type": "code",
   "execution_count": 39,
   "id": "a30d3f33",
   "metadata": {},
   "outputs": [
    {
     "name": "stdout",
     "output_type": "stream",
     "text": [
      "PyThoN PRogramming LanGuage\n"
     ]
    }
   ],
   "source": [
    "print(message)\n",
    "#convert a string into a list"
   ]
  },
  {
   "cell_type": "code",
   "execution_count": null,
   "id": "64d6d026",
   "metadata": {},
   "outputs": [],
   "source": [
    "#message.split(sep=\"p\")"
   ]
  },
  {
   "cell_type": "markdown",
   "id": "767a741a",
   "metadata": {},
   "source": [
    "## Useful methods for strip a string\n",
    "- lstrip\n",
    "- rstrip\n",
    "- strip"
   ]
  },
  {
   "cell_type": "code",
   "execution_count": 41,
   "id": "a98d7290",
   "metadata": {},
   "outputs": [],
   "source": [
    "message1= \" Python Programming Language \""
   ]
  },
  {
   "cell_type": "code",
   "execution_count": 42,
   "id": "33fcdb4a",
   "metadata": {},
   "outputs": [
    {
     "data": {
      "text/plain": [
       "'Python Programming Language '"
      ]
     },
     "execution_count": 42,
     "metadata": {},
     "output_type": "execute_result"
    }
   ],
   "source": [
    "message1.lstrip()"
   ]
  },
  {
   "cell_type": "code",
   "execution_count": 43,
   "id": "172ecf84",
   "metadata": {},
   "outputs": [
    {
     "data": {
      "text/plain": [
       "' Python Programming Language'"
      ]
     },
     "execution_count": 43,
     "metadata": {},
     "output_type": "execute_result"
    }
   ],
   "source": [
    "message1.rstrip()"
   ]
  },
  {
   "cell_type": "code",
   "execution_count": 44,
   "id": "9fe5484f",
   "metadata": {},
   "outputs": [
    {
     "data": {
      "text/plain": [
       "'Python Programming Language'"
      ]
     },
     "execution_count": 44,
     "metadata": {},
     "output_type": "execute_result"
    }
   ],
   "source": [
    "message1.strip()"
   ]
  },
  {
   "cell_type": "markdown",
   "id": "59666fd1",
   "metadata": {},
   "source": [
    "## Practice2\n",
    "1. Stripping Names: Store a person’s name, and include some whitespace characters at the beginning and end of the name. Make sure you use each character combination, \"\\t\" and \"\\n\", at least once.\n",
    "Print the name once, so the whitespace around the name is displayed.\n",
    "Then print the name using each of the three stripping functions, lstrip(),\n",
    "rstrip(), and strip()."
   ]
  },
  {
   "cell_type": "code",
   "execution_count": 8,
   "id": "26377f7e",
   "metadata": {},
   "outputs": [
    {
     "name": "stdout",
     "output_type": "stream",
     "text": [
      "  Ari   Eastman   \n"
     ]
    }
   ],
   "source": [
    "name= \"  Ari   Eastman   \"\n",
    "print(name)"
   ]
  },
  {
   "cell_type": "code",
   "execution_count": 9,
   "id": "b86dc1a6",
   "metadata": {},
   "outputs": [
    {
     "name": "stdout",
     "output_type": "stream",
     "text": [
      "\tAri \tEastman\n"
     ]
    }
   ],
   "source": [
    "print(\"\\tAri \\tEastman\")"
   ]
  },
  {
   "cell_type": "code",
   "execution_count": 10,
   "id": "b4b100e7",
   "metadata": {},
   "outputs": [
    {
     "name": "stdout",
     "output_type": "stream",
     "text": [
      "\n",
      "Ari \n",
      "Eastman\n"
     ]
    }
   ],
   "source": [
    "print(\"\\nAri \\nEastman\")"
   ]
  },
  {
   "cell_type": "code",
   "execution_count": 11,
   "id": "8fd1f20c",
   "metadata": {},
   "outputs": [
    {
     "name": "stdout",
     "output_type": "stream",
     "text": [
      "  Ari   Eastman   \n"
     ]
    }
   ],
   "source": [
    "name= \"  Ari   Eastman   \"\n",
    "print(name)"
   ]
  },
  {
   "cell_type": "code",
   "execution_count": 17,
   "id": "b405c666",
   "metadata": {},
   "outputs": [
    {
     "name": "stdout",
     "output_type": "stream",
     "text": [
      "  Ari G. Eastman  \n"
     ]
    }
   ],
   "source": [
    "message1= \"  Ari G. Eastman  \"\n",
    "print(message1)"
   ]
  },
  {
   "cell_type": "code",
   "execution_count": 21,
   "id": "65801419",
   "metadata": {},
   "outputs": [
    {
     "data": {
      "text/plain": [
       "'Ari G. Eastman  '"
      ]
     },
     "execution_count": 21,
     "metadata": {},
     "output_type": "execute_result"
    }
   ],
   "source": [
    "message1.lstrip()"
   ]
  },
  {
   "cell_type": "code",
   "execution_count": 22,
   "id": "860afbcc",
   "metadata": {},
   "outputs": [
    {
     "data": {
      "text/plain": [
       "'  Ari G. Eastman'"
      ]
     },
     "execution_count": 22,
     "metadata": {},
     "output_type": "execute_result"
    }
   ],
   "source": [
    "message1.rstrip()"
   ]
  },
  {
   "cell_type": "code",
   "execution_count": 24,
   "id": "156cc91b",
   "metadata": {},
   "outputs": [
    {
     "data": {
      "text/plain": [
       "'Ari G. Eastman'"
      ]
     },
     "execution_count": 24,
     "metadata": {},
     "output_type": "execute_result"
    }
   ],
   "source": [
    "message1.strip()"
   ]
  },
  {
   "cell_type": "markdown",
   "id": "7cb5c2e0",
   "metadata": {},
   "source": [
    "#### Replacing words or characters of a string"
   ]
  },
  {
   "cell_type": "code",
   "execution_count": 45,
   "id": "22032818",
   "metadata": {},
   "outputs": [
    {
     "name": "stdout",
     "output_type": "stream",
     "text": [
      "Java Programming Language\n"
     ]
    }
   ],
   "source": [
    "#MESSAGE_NEW.REPLACE(` PYTHON, 'r')\n",
    "message= \"Python Programming Language\"\n",
    "message=message.replace('Python', 'Java')\n",
    "print(message)"
   ]
  },
  {
   "cell_type": "code",
   "execution_count": 4,
   "id": "1631042e",
   "metadata": {},
   "outputs": [
    {
     "name": "stdout",
     "output_type": "stream",
     "text": [
      "Python Progremming Lengeuge\n"
     ]
    }
   ],
   "source": [
    "#REPLACING THE CHARACTERS\n",
    "message= \"Python Programming Langauge\"\n",
    "message= message.replace('a','e')\n",
    "print(message)"
   ]
  },
  {
   "cell_type": "markdown",
   "id": "7a2ff52e",
   "metadata": {},
   "source": [
    "# Number"
   ]
  },
  {
   "cell_type": "markdown",
   "id": "7ed88df4",
   "metadata": {},
   "source": [
    "# Data Types\n",
    "* `float` (floating point) - used for real numbers.\n",
    "* `int` (integer) - used for integers."
   ]
  },
  {
   "cell_type": "markdown",
   "id": "c37ef37a",
   "metadata": {},
   "source": [
    "## Arithmetic Operator\n",
    "| Python operation | Arithmetic operator | Python expression\n",
    "| :-------- | :-------- | :-------- \n",
    "| Addition | `+`  | `f + 7` \n",
    "| Subtraction | `–` | `p - c` \n",
    "| Multiplication | `*` | `b * m` \n",
    "| Exponentiation | `**` |  `x ** y` \n",
    "| True division | `/` | `x / y` \n",
    "| Floor division | `//` | `x // y` \n",
    "| Remainder (modulo) | `%` | `r % s` \n",
    "\n",
    "`Floor division` is an operation in Python that divides two numbers and rounds the result down to the nearest integer."
   ]
  },
  {
   "cell_type": "code",
   "execution_count": 27,
   "id": "ddee7b60",
   "metadata": {},
   "outputs": [
    {
     "data": {
      "text/plain": [
       "2.25"
      ]
     },
     "execution_count": 27,
     "metadata": {},
     "output_type": "execute_result"
    }
   ],
   "source": [
    "#TRUE DIVISION\n",
    "9/4"
   ]
  },
  {
   "cell_type": "code",
   "execution_count": 28,
   "id": "89065958",
   "metadata": {},
   "outputs": [
    {
     "data": {
      "text/plain": [
       "2"
      ]
     },
     "execution_count": 28,
     "metadata": {},
     "output_type": "execute_result"
    }
   ],
   "source": [
    "#FLOOR DIVISION\n",
    "9//4"
   ]
  },
  {
   "cell_type": "code",
   "execution_count": 29,
   "id": "0a916868",
   "metadata": {},
   "outputs": [
    {
     "data": {
      "text/plain": [
       "1"
      ]
     },
     "execution_count": 29,
     "metadata": {},
     "output_type": "execute_result"
    }
   ],
   "source": [
    "#MODULO\n",
    "9%4"
   ]
  },
  {
   "cell_type": "code",
   "execution_count": 33,
   "id": "1711eca9",
   "metadata": {},
   "outputs": [
    {
     "data": {
      "text/plain": [
       "6561"
      ]
     },
     "execution_count": 33,
     "metadata": {},
     "output_type": "execute_result"
    }
   ],
   "source": [
    "#EXPONENT\n",
    "9**4"
   ]
  },
  {
   "cell_type": "markdown",
   "id": "290d4afb",
   "metadata": {},
   "source": [
    "## Avoiding Type Errors with the str() Function"
   ]
  },
  {
   "cell_type": "code",
   "execution_count": null,
   "id": "d853bd0b",
   "metadata": {},
   "outputs": [],
   "source": [
    "#THIS WILL CASUE A TYPE ERROR\n",
    "#NAME= \"ELLA\"\n",
    "#AGE= 20\n",
    "#PRINT(\"THE NAME IS: \" + NAME + \"THE AGE IS\" + AGE)"
   ]
  },
  {
   "cell_type": "code",
   "execution_count": 36,
   "id": "9da718ed",
   "metadata": {},
   "outputs": [
    {
     "name": "stdout",
     "output_type": "stream",
     "text": [
      "The name is: Ella The age is: 20\n"
     ]
    }
   ],
   "source": [
    "#USE STR(), IF YOU HAVE A INTERGER, FORM A VARAIBLE INTO A STRING\n",
    "name= \"Ella\"\n",
    "age= 20\n",
    "print(\"The name is: \" + name + \" The age is: \" + str(age))"
   ]
  },
  {
   "cell_type": "code",
   "execution_count": 37,
   "id": "d3d77d88",
   "metadata": {},
   "outputs": [
    {
     "data": {
      "text/plain": [
       "int"
      ]
     },
     "execution_count": 37,
     "metadata": {},
     "output_type": "execute_result"
    }
   ],
   "source": [
    "type(age)"
   ]
  },
  {
   "cell_type": "code",
   "execution_count": 38,
   "id": "5936f26c",
   "metadata": {},
   "outputs": [
    {
     "data": {
      "text/plain": [
       "str"
      ]
     },
     "execution_count": 38,
     "metadata": {},
     "output_type": "execute_result"
    }
   ],
   "source": [
    "type(name)"
   ]
  },
  {
   "cell_type": "code",
   "execution_count": 40,
   "id": "a6524191",
   "metadata": {},
   "outputs": [
    {
     "data": {
      "text/plain": [
       "str"
      ]
     },
     "execution_count": 40,
     "metadata": {},
     "output_type": "execute_result"
    }
   ],
   "source": [
    "type(str(age))"
   ]
  },
  {
   "cell_type": "markdown",
   "id": "165bd5f8",
   "metadata": {},
   "source": [
    "## Practice3 \n",
    "1. Write addition, subtraction, multiplication, and division\n",
    "operations that each result in the number 91. Be sure to enclose your operations\n",
    "in print statements to see the results. You should create four lines that look\n",
    "like this:\n",
    "print(53 + 38)\n",
    "Your output should simply be four lines with the number 91 appearing once\n",
    "on each line.\n",
    "2. Favorite Number: Store your favorite number in a variable. Then, using\n",
    "that variable, create a message that reveals your favorite number. Print that\n",
    "message."
   ]
  },
  {
   "cell_type": "code",
   "execution_count": 41,
   "id": "0deea5b4",
   "metadata": {},
   "outputs": [
    {
     "name": "stdout",
     "output_type": "stream",
     "text": [
      "The Addition: 91\n"
     ]
    }
   ],
   "source": [
    "print(f\"The Addition: {53+38}\")"
   ]
  },
  {
   "cell_type": "code",
   "execution_count": 42,
   "id": "3abdb7ed",
   "metadata": {},
   "outputs": [
    {
     "name": "stdout",
     "output_type": "stream",
     "text": [
      "The Division: 91.0\n"
     ]
    }
   ],
   "source": [
    "print(f\"The Division: {182/2}\")"
   ]
  },
  {
   "cell_type": "code",
   "execution_count": 44,
   "id": "64f1ae69",
   "metadata": {},
   "outputs": [
    {
     "name": "stdout",
     "output_type": "stream",
     "text": [
      "The True Division: 91\n"
     ]
    }
   ],
   "source": [
    "print(f\"The True Division: {182//2}\")"
   ]
  },
  {
   "cell_type": "code",
   "execution_count": 45,
   "id": "1c2870e4",
   "metadata": {},
   "outputs": [
    {
     "name": "stdout",
     "output_type": "stream",
     "text": [
      "The Subtraction: 91\n"
     ]
    }
   ],
   "source": [
    "print(f\"The Subtraction: {100-9}\")"
   ]
  },
  {
   "cell_type": "code",
   "execution_count": 48,
   "id": "5f45c03f",
   "metadata": {},
   "outputs": [
    {
     "name": "stdout",
     "output_type": "stream",
     "text": [
      "My Favorite Message is 23\n"
     ]
    }
   ],
   "source": [
    "x=23\n",
    "print(f\"My Favorite Message is {x}\")"
   ]
  },
  {
   "cell_type": "markdown",
   "id": "e05b5c26",
   "metadata": {},
   "source": [
    "## Getting Input from the User\n",
    "* Built-in **`input` function** requests and obtains user input."
   ]
  },
  {
   "cell_type": "code",
   "execution_count": 49,
   "id": "4fec3462",
   "metadata": {},
   "outputs": [
    {
     "name": "stdout",
     "output_type": "stream",
     "text": [
      "Enter A Flowers Name: Rose\n"
     ]
    }
   ],
   "source": [
    "flower=input(\"Enter A Flowers Name: \")"
   ]
  },
  {
   "cell_type": "code",
   "execution_count": 50,
   "id": "d5a698c2",
   "metadata": {},
   "outputs": [
    {
     "name": "stdout",
     "output_type": "stream",
     "text": [
      "Enter Your First Name: Ari\n",
      "Enter Your Last Name: Eastman\n",
      "The Full Name: Ari Eastman \n"
     ]
    }
   ],
   "source": [
    "first_name= input(\"Enter Your First Name: \")\n",
    "last_name= input(\"Enter Your Last Name: \")\n",
    "print(f\"The Full Name: {first_name} {last_name} \")"
   ]
  },
  {
   "cell_type": "code",
   "execution_count": null,
   "id": "93f54fc5",
   "metadata": {},
   "outputs": [],
   "source": [
    "number=input(\"Enter A Number: \")\n",
    "print(number)\n",
    "type(number)"
   ]
  },
  {
   "cell_type": "markdown",
   "id": "476c6426",
   "metadata": {},
   "source": [
    "## Getting an Integer/ Float from the User\n",
    "* If you need an integer, convert the string to an integer using the built-in **`int` / `float` function**. "
   ]
  },
  {
   "cell_type": "code",
   "execution_count": 1,
   "id": "1905f791",
   "metadata": {},
   "outputs": [
    {
     "name": "stdout",
     "output_type": "stream",
     "text": [
      "Enter An Interger: 555\n",
      "Enter A Floating Point Number: 555\n",
      "The First Number 555. , The Second Number 555.0.\n",
      "The Multiplication Result Is : 308025.0\n"
     ]
    }
   ],
   "source": [
    "number1= int(input(\"Enter An Interger: \"))\n",
    "number2= float(input(\"Enter A Floating Point Number: \"))\n",
    "print(f\"The First Number {number1}. , The Second Number {number2}.\")\n",
    "print(f\"The Multiplication Result Is : {number1*number2}\")"
   ]
  },
  {
   "cell_type": "code",
   "execution_count": 4,
   "id": "a8b6814e",
   "metadata": {},
   "outputs": [
    {
     "name": "stdout",
     "output_type": "stream",
     "text": [
      "Enter an interger number: 555\n",
      "555\n"
     ]
    }
   ],
   "source": [
    "number3=int(input(\"Enter an interger number: \"))\n",
    "print(number3)"
   ]
  },
  {
   "cell_type": "markdown",
   "id": "6ff42bfa",
   "metadata": {},
   "source": [
    "## Checking the data type using `type` function"
   ]
  },
  {
   "cell_type": "code",
   "execution_count": 5,
   "id": "e1b73434",
   "metadata": {},
   "outputs": [
    {
     "data": {
      "text/plain": [
       "int"
      ]
     },
     "execution_count": 5,
     "metadata": {},
     "output_type": "execute_result"
    }
   ],
   "source": [
    "type(number3)"
   ]
  },
  {
   "cell_type": "code",
   "execution_count": 7,
   "id": "5c848906",
   "metadata": {},
   "outputs": [
    {
     "data": {
      "text/plain": [
       "int"
      ]
     },
     "execution_count": 7,
     "metadata": {},
     "output_type": "execute_result"
    }
   ],
   "source": [
    "type(number1)"
   ]
  },
  {
   "cell_type": "markdown",
   "id": "fc6e7e28",
   "metadata": {},
   "source": [
    "## Errors in Python\n",
    "When an error occurs in your program, the Python interpreter does its\n",
    "best to help you figure out where the problem is. The interpreter provides\n",
    "a traceback when a program cannot run successfully. A traceback is a record\n",
    "of where the interpreter ran into trouble when trying to execute your code.\n",
    "Errors can be classified into three major groups:\n",
    "- Syntax errors\n",
    "- Runtime errors\n",
    "- Logical errors"
   ]
  },
  {
   "cell_type": "markdown",
   "id": "7fe3220f",
   "metadata": {},
   "source": [
    "### Syntax error.\n",
    "- Python will find these kinds of errors when it tries to parse your program, and exit with an error message without running anything. \n",
    "- Syntax errors are mistakes in the use of the Python language, and are analogous to spelling or grammar mistakes in a language like English: for example, the sentence Would you some tea? does not make sense – it is missing a verb.\n"
   ]
  },
  {
   "cell_type": "markdown",
   "id": "88840cff",
   "metadata": {},
   "source": [
    "### Example:\n",
    "- leaving out a keyword\n",
    "- putting a keyword in the wrong place\n",
    "- leaving out a symbol, such as a colon, comma or brackets\n",
    "- misspelling a keyword\n",
    "- incorrect indentation\n",
    "- empty block"
   ]
  },
  {
   "cell_type": "code",
   "execution_count": 8,
   "id": "1b4b64c3",
   "metadata": {},
   "outputs": [
    {
     "name": "stdout",
     "output_type": "stream",
     "text": [
      "This is a error message\n"
     ]
    }
   ],
   "source": [
    "#print(\"This Is A Error Message)\n",
    "#Fix\n",
    "print(\"This is a error message\")"
   ]
  },
  {
   "cell_type": "code",
   "execution_count": 9,
   "id": "92353ef9",
   "metadata": {},
   "outputs": [],
   "source": [
    "#len('hello')=5"
   ]
  },
  {
   "cell_type": "markdown",
   "id": "f10a50b1",
   "metadata": {},
   "source": [
    "## Runtime error\n",
    "- A program with a runtime error is one that passed the interpreter’s syntax checks, and started to execute. \n",
    "- However, during the execution of one of the statements in the program, an error occurred that caused the interpreter to stop executing the program and display an error message. \n",
    "- Runtime errors are also called `exceptions` because they usually indicate that something exceptional (and bad) has happened."
   ]
  },
  {
   "cell_type": "markdown",
   "id": "b5ce828a",
   "metadata": {},
   "source": [
    "### Examples: \n",
    "- division by zero.\n",
    "- performing an operation on incompatible types.\n",
    "- using an identifier which has not been defined.\n",
    "- accessing a list element, dictionary value or object attribute which doesn't exist.\n",
    "- trying to access a file which doesn't exist."
   ]
  },
  {
   "cell_type": "code",
   "execution_count": null,
   "id": "7176f581",
   "metadata": {},
   "outputs": [],
   "source": [
    "#print(6/0)"
   ]
  },
  {
   "cell_type": "code",
   "execution_count": 10,
   "id": "15f63562",
   "metadata": {},
   "outputs": [
    {
     "name": "stdout",
     "output_type": "stream",
     "text": [
      "Enter The Amount You Spent: 45\n",
      "The Subtotal Is: 47.7\n"
     ]
    }
   ],
   "source": [
    "total= float(input(\"Enter The Amount You Spent: \"))\n",
    "tax=.06*total\n",
    "print(f\"The Subtotal Is: {total+tax}\")"
   ]
  },
  {
   "cell_type": "markdown",
   "id": "6dec365d",
   "metadata": {},
   "source": [
    "### Logical error\n",
    "- Logical errors are the most difficult to fix. They occur when the program runs without crashing, but produces an incorrect result. \n",
    "- The error is caused by a mistake in the program’s logic. \n",
    "- You won’t get an error message, because no syntax or runtime error has occurred. \n",
    "- You will have to find the problem on your own by reviewing all the relevant parts of your code "
   ]
  },
  {
   "cell_type": "code",
   "execution_count": 11,
   "id": "49aba111",
   "metadata": {},
   "outputs": [
    {
     "name": "stdout",
     "output_type": "stream",
     "text": [
      "The Addtion Of Two Number Is 1288\n"
     ]
    }
   ],
   "source": [
    "number1= 23\n",
    "number2= 56\n",
    "print(f\"The Addtion Of Two Number Is {number1*number2}\")"
   ]
  }
 ],
 "metadata": {
  "kernelspec": {
   "display_name": "Python 3 (ipykernel)",
   "language": "python",
   "name": "python3"
  },
  "language_info": {
   "codemirror_mode": {
    "name": "ipython",
    "version": 3
   },
   "file_extension": ".py",
   "mimetype": "text/x-python",
   "name": "python",
   "nbconvert_exporter": "python",
   "pygments_lexer": "ipython3",
   "version": "3.11.4"
  }
 },
 "nbformat": 4,
 "nbformat_minor": 5
}
